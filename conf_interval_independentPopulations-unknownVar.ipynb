{
 "cells": [
  {
   "cell_type": "markdown",
   "metadata": {},
   "source": [
    "## Finding Confidence Interval for 2 Independent Samples, Population Variances are Unknown but Assumed to be Equal"
   ]
  },
  {
   "cell_type": "markdown",
   "metadata": {},
   "source": [
    "In this example, we'll find the confidence interval for the two independent samples.\n",
    "We don't know the population variances of these samples but we assume that they are equal.\n",
    "\n",
    "For example we want to estimate the price difference of apples in NY and LA. We don't know their variances however we think taht they should be the same.\n",
    "   \n",
    "For finding confidence intervals when population variance is unknown and when we have small amount of samples (generally less than 30), t-statistic is being used as reliability factor (RF)\n",
    "Without much detail, you can use http://www.ttable.org/ for finding t value\n",
    "\n",
    "Finally, we assume that populations are normally distributed"
   ]
  },
  {
   "cell_type": "code",
   "execution_count": 1,
   "metadata": {},
   "outputs": [],
   "source": [
    "#inserting libraries\n",
    "import pandas as pd #pandas is great when dealing datasets\n",
    "import math #for mathematical functions\n",
    "import numpy as np"
   ]
  },
  {
   "cell_type": "code",
   "execution_count": 2,
   "metadata": {},
   "outputs": [
    {
     "data": {
      "text/html": [
       "<div>\n",
       "<style scoped>\n",
       "    .dataframe tbody tr th:only-of-type {\n",
       "        vertical-align: middle;\n",
       "    }\n",
       "\n",
       "    .dataframe tbody tr th {\n",
       "        vertical-align: top;\n",
       "    }\n",
       "\n",
       "    .dataframe thead th {\n",
       "        text-align: right;\n",
       "    }\n",
       "</style>\n",
       "<table border=\"1\" class=\"dataframe\">\n",
       "  <thead>\n",
       "    <tr style=\"text-align: right;\">\n",
       "      <th></th>\n",
       "      <th>apples_NY</th>\n",
       "      <th>apples_LA</th>\n",
       "    </tr>\n",
       "  </thead>\n",
       "  <tbody>\n",
       "    <tr>\n",
       "      <td>0</td>\n",
       "      <td>3.80</td>\n",
       "      <td>3.02</td>\n",
       "    </tr>\n",
       "    <tr>\n",
       "      <td>1</td>\n",
       "      <td>3.76</td>\n",
       "      <td>3.22</td>\n",
       "    </tr>\n",
       "    <tr>\n",
       "      <td>2</td>\n",
       "      <td>3.87</td>\n",
       "      <td>3.24</td>\n",
       "    </tr>\n",
       "    <tr>\n",
       "      <td>3</td>\n",
       "      <td>3.99</td>\n",
       "      <td>3.02</td>\n",
       "    </tr>\n",
       "    <tr>\n",
       "      <td>4</td>\n",
       "      <td>4.02</td>\n",
       "      <td>3.06</td>\n",
       "    </tr>\n",
       "    <tr>\n",
       "      <td>5</td>\n",
       "      <td>4.25</td>\n",
       "      <td>3.15</td>\n",
       "    </tr>\n",
       "    <tr>\n",
       "      <td>6</td>\n",
       "      <td>4.13</td>\n",
       "      <td>3.81</td>\n",
       "    </tr>\n",
       "    <tr>\n",
       "      <td>7</td>\n",
       "      <td>3.98</td>\n",
       "      <td>3.44</td>\n",
       "    </tr>\n",
       "    <tr>\n",
       "      <td>8</td>\n",
       "      <td>3.99</td>\n",
       "      <td>NaN</td>\n",
       "    </tr>\n",
       "    <tr>\n",
       "      <td>9</td>\n",
       "      <td>3.62</td>\n",
       "      <td>NaN</td>\n",
       "    </tr>\n",
       "  </tbody>\n",
       "</table>\n",
       "</div>"
      ],
      "text/plain": [
       "   apples_NY  apples_LA\n",
       "0       3.80       3.02\n",
       "1       3.76       3.22\n",
       "2       3.87       3.24\n",
       "3       3.99       3.02\n",
       "4       4.02       3.06\n",
       "5       4.25       3.15\n",
       "6       4.13       3.81\n",
       "7       3.98       3.44\n",
       "8       3.99        NaN\n",
       "9       3.62        NaN"
      ]
     },
     "execution_count": 2,
     "metadata": {},
     "output_type": "execute_result"
    }
   ],
   "source": [
    "#creating our dataset\n",
    "#apple prices from different locations in both cities\n",
    "d = {'apples_NY':[3.80, 3.76, 3.87, 3.99, 4.02, 4.25, 4.13, 3.98, 3.99, 3.62],\n",
    "        'apples_LA':[3.02, 3.22, 3.24, 3.02, 3.06, 3.15, 3.81, 3.44, np.NaN, np.NaN]}\n",
    "df = pd.DataFrame(data=d)\n",
    "df"
   ]
  },
  {
   "cell_type": "markdown",
   "metadata": {
    "scrolled": true
   },
   "source": [
    "In order to calculate confidence interval for this situation, we need Pooled Variance. Since we don't know the individual population variances, we use pooled variance values for calculating standard error.\n",
    "The formula for pooled variance is:\n",
    "pooled_var = ((nx-1) * varX + (ny-1) * varY) / (nx + ny -2)\n",
    "\n",
    "nx = lenght of first variable (in our case apples_NY), \n",
    "ny = length of second variable (in our case apples_LA), \n",
    "varX and varY are the variances of variables."
   ]
  },
  {
   "cell_type": "code",
   "execution_count": 3,
   "metadata": {},
   "outputs": [
    {
     "name": "stdout",
     "output_type": "stream",
     "text": [
      "varaince for NY apples: 0.03383222222222223\n",
      "variance for LA apples: 0.07177142857142858\n"
     ]
    }
   ],
   "source": [
    "#let's calculate variances\n",
    "varNY = df['apples_NY'].var()\n",
    "varLA = df['apples_LA'].var()\n",
    "\n",
    "print('varaince for NY apples:', varNY)\n",
    "print('variance for LA apples:', varLA)"
   ]
  },
  {
   "cell_type": "code",
   "execution_count": 4,
   "metadata": {},
   "outputs": [
    {
     "name": "stdout",
     "output_type": "stream",
     "text": [
      "Count for NY apples: 10\n",
      "Count for LA apples: 8\n"
     ]
    }
   ],
   "source": [
    "#let's calculate counts\n",
    "nx = df['apples_NY'].count()\n",
    "ny = df['apples_LA'].count()\n",
    "\n",
    "print('Count for NY apples:', nx)\n",
    "print('Count for LA apples:', ny)"
   ]
  },
  {
   "cell_type": "code",
   "execution_count": 5,
   "metadata": {},
   "outputs": [
    {
     "data": {
      "text/plain": [
       "0.05043062500000001"
      ]
     },
     "execution_count": 5,
     "metadata": {},
     "output_type": "execute_result"
    }
   ],
   "source": [
    "#calculate pooled variance\n",
    "pooledVar = (((nx-1)*varNY)+((ny-1)*varLA)) / (nx+ny-2)\n",
    "pooledVar"
   ]
  },
  {
   "cell_type": "markdown",
   "metadata": {},
   "source": [
    "### How to find t-stat\n",
    "First decide your confidence level. Let's say we look for 95% confidence level.\n",
    "Confidence level = 1 - α\n",
    "so, for 95% interval, our alpha is 5% whic is equal to 0.05\n",
    "We are looking for an two tailed t-value (short explanation, if you check an (hypothesis = some value) it is two tailed, if you chech hypothesis greater (>) or less (<) than some value, it is one tailed. since we look for a mean it is two tailed)\n",
    "\n",
    "Now look for this value in t table for 95% confidence (at the bottom) and look for n-2 samples (we have 2 sets)\n",
    "it is 2.120"
   ]
  },
  {
   "cell_type": "code",
   "execution_count": 6,
   "metadata": {},
   "outputs": [],
   "source": [
    "t_95 = 2.120"
   ]
  },
  {
   "cell_type": "code",
   "execution_count": 7,
   "metadata": {},
   "outputs": [
    {
     "name": "stdout",
     "output_type": "stream",
     "text": [
      "Mean for NY apples: 3.941\n",
      "Mean for LA apples: 3.245\n"
     ]
    }
   ],
   "source": [
    "#we need means of the samples for calculating confidence interval\n",
    "meanNY = df['apples_NY'].mean()\n",
    "meanLA = df['apples_LA'].mean()\n",
    "\n",
    "print('Mean for NY apples:', meanNY)\n",
    "print('Mean for LA apples:', meanLA)"
   ]
  },
  {
   "cell_type": "code",
   "execution_count": 8,
   "metadata": {},
   "outputs": [
    {
     "data": {
      "text/plain": [
       "0.10652178474377906"
      ]
     },
     "execution_count": 8,
     "metadata": {},
     "output_type": "execute_result"
    }
   ],
   "source": [
    "#let's calculate standard error\n",
    "standard_error = math.sqrt((pooledVar)/nx + (pooledVar)/ny)\n",
    "standard_error"
   ]
  },
  {
   "cell_type": "code",
   "execution_count": 9,
   "metadata": {},
   "outputs": [
    {
     "data": {
      "text/plain": [
       "(0.4701738163431881, 0.9218261836568113)"
      ]
     },
     "execution_count": 9,
     "metadata": {},
     "output_type": "execute_result"
    }
   ],
   "source": [
    "#lets define the interval which has our mean with 95% possibilitiy\n",
    "interval_95 =(((meanNY-meanLA) - t_95 * standard_error) ,((meanNY-meanLA) + t_95 * standard_error))\n",
    "interval_95"
   ]
  },
  {
   "cell_type": "markdown",
   "metadata": {},
   "source": [
    "The result is, with 95% confidence, difference between NY and LA apples is between 0.47 and 0.92"
   ]
  },
  {
   "cell_type": "code",
   "execution_count": null,
   "metadata": {},
   "outputs": [],
   "source": []
  }
 ],
 "metadata": {
  "kernelspec": {
   "display_name": "Python 3",
   "language": "python",
   "name": "python3"
  },
  "language_info": {
   "codemirror_mode": {
    "name": "ipython",
    "version": 3
   },
   "file_extension": ".py",
   "mimetype": "text/x-python",
   "name": "python",
   "nbconvert_exporter": "python",
   "pygments_lexer": "ipython3",
   "version": "3.7.4"
  }
 },
 "nbformat": 4,
 "nbformat_minor": 2
}
