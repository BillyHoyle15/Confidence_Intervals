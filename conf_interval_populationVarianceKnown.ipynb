{
 "cells": [
  {
   "cell_type": "markdown",
   "metadata": {},
   "source": [
    "# Finding Confidence Interval for Sample when Population Variance is Known"
   ]
  },
  {
   "cell_type": "markdown",
   "metadata": {},
   "source": [
    "In this example, we'll find the confidence interval for the mean of software developer salary.\n",
    "We know that our population variance is known. Standard deviation of our population data equals to $15.000\n",
    "We have 30 samples and our data is normally distributed\n",
    "\n",
    "For finding confidence intervals when population variance is known, z-statistic is being used as reliability factor (RF)\n",
    "Without much detail, you can use Standard Normal Table for finding z https://en.wikipedia.org/wiki/Standard_normal_table\n",
    "\n",
    "The formula for the confidence interval is;\n",
    "[SampleMean - RF * StandardError , SampleMean + RF * StandardError]\n",
    "\n",
    "So the our population mean is in the interval above. I'll explain the standard error later in this notebook."
   ]
  },
  {
   "cell_type": "code",
   "execution_count": 16,
   "metadata": {},
   "outputs": [],
   "source": [
    "#inserting libraries\n",
    "import pandas as pd #pandas is great when dealing datasets\n",
    "import math #for mathematical functions"
   ]
  },
  {
   "cell_type": "code",
   "execution_count": 17,
   "metadata": {},
   "outputs": [
    {
     "data": {
      "text/html": [
       "<div>\n",
       "<style scoped>\n",
       "    .dataframe tbody tr th:only-of-type {\n",
       "        vertical-align: middle;\n",
       "    }\n",
       "\n",
       "    .dataframe tbody tr th {\n",
       "        vertical-align: top;\n",
       "    }\n",
       "\n",
       "    .dataframe thead th {\n",
       "        text-align: right;\n",
       "    }\n",
       "</style>\n",
       "<table border=\"1\" class=\"dataframe\">\n",
       "  <thead>\n",
       "    <tr style=\"text-align: right;\">\n",
       "      <th></th>\n",
       "      <th>Dataset</th>\n",
       "    </tr>\n",
       "  </thead>\n",
       "  <tbody>\n",
       "    <tr>\n",
       "      <td>0</td>\n",
       "      <td>117313</td>\n",
       "    </tr>\n",
       "    <tr>\n",
       "      <td>1</td>\n",
       "      <td>104002</td>\n",
       "    </tr>\n",
       "    <tr>\n",
       "      <td>2</td>\n",
       "      <td>113038</td>\n",
       "    </tr>\n",
       "    <tr>\n",
       "      <td>3</td>\n",
       "      <td>101936</td>\n",
       "    </tr>\n",
       "    <tr>\n",
       "      <td>4</td>\n",
       "      <td>84560</td>\n",
       "    </tr>\n",
       "  </tbody>\n",
       "</table>\n",
       "</div>"
      ],
      "text/plain": [
       "   Dataset\n",
       "0   117313\n",
       "1   104002\n",
       "2   113038\n",
       "3   101936\n",
       "4    84560"
      ]
     },
     "execution_count": 17,
     "metadata": {},
     "output_type": "execute_result"
    }
   ],
   "source": [
    "#let's read our data from the excel table\n",
    "path = USE THE salary_dataset in the repository\n",
    "df = pd.read_excel(path, header=0, usecols=\"B\", skiprows=4)\n",
    "df.head()"
   ]
  },
  {
   "cell_type": "code",
   "execution_count": 18,
   "metadata": {},
   "outputs": [
    {
     "data": {
      "text/html": [
       "<div>\n",
       "<style scoped>\n",
       "    .dataframe tbody tr th:only-of-type {\n",
       "        vertical-align: middle;\n",
       "    }\n",
       "\n",
       "    .dataframe tbody tr th {\n",
       "        vertical-align: top;\n",
       "    }\n",
       "\n",
       "    .dataframe thead th {\n",
       "        text-align: right;\n",
       "    }\n",
       "</style>\n",
       "<table border=\"1\" class=\"dataframe\">\n",
       "  <thead>\n",
       "    <tr style=\"text-align: right;\">\n",
       "      <th></th>\n",
       "      <th>Dataset</th>\n",
       "    </tr>\n",
       "  </thead>\n",
       "  <tbody>\n",
       "    <tr>\n",
       "      <td>count</td>\n",
       "      <td>30.000000</td>\n",
       "    </tr>\n",
       "    <tr>\n",
       "      <td>mean</td>\n",
       "      <td>100200.366667</td>\n",
       "    </tr>\n",
       "    <tr>\n",
       "      <td>std</td>\n",
       "      <td>11478.406127</td>\n",
       "    </tr>\n",
       "    <tr>\n",
       "      <td>min</td>\n",
       "      <td>80740.000000</td>\n",
       "    </tr>\n",
       "    <tr>\n",
       "      <td>25%</td>\n",
       "      <td>90493.750000</td>\n",
       "    </tr>\n",
       "    <tr>\n",
       "      <td>50%</td>\n",
       "      <td>101236.000000</td>\n",
       "    </tr>\n",
       "    <tr>\n",
       "      <td>75%</td>\n",
       "      <td>111635.500000</td>\n",
       "    </tr>\n",
       "    <tr>\n",
       "      <td>max</td>\n",
       "      <td>117313.000000</td>\n",
       "    </tr>\n",
       "  </tbody>\n",
       "</table>\n",
       "</div>"
      ],
      "text/plain": [
       "             Dataset\n",
       "count      30.000000\n",
       "mean   100200.366667\n",
       "std     11478.406127\n",
       "min     80740.000000\n",
       "25%     90493.750000\n",
       "50%    101236.000000\n",
       "75%    111635.500000\n",
       "max    117313.000000"
      ]
     },
     "execution_count": 18,
     "metadata": {},
     "output_type": "execute_result"
    }
   ],
   "source": [
    "#a very quick way to find some info about your dataset is describe function\n",
    "df.describe()"
   ]
  },
  {
   "cell_type": "code",
   "execution_count": 19,
   "metadata": {},
   "outputs": [
    {
     "data": {
      "text/plain": [
       "100200.36666666667"
      ]
     },
     "execution_count": 19,
     "metadata": {},
     "output_type": "execute_result"
    }
   ],
   "source": [
    "#so, we need sample mean\n",
    "sample_mean = df['Dataset'].mean()\n",
    "sample_mean"
   ]
  },
  {
   "cell_type": "markdown",
   "metadata": {},
   "source": [
    "### How to find z-stat\n",
    "First decide your confidence level. Let's say we look for 99% confidence level.\n",
    "Confidence level = 1 - α\n",
    "so, for 99% interval, our alpha is 1% whic is equal to 0.01\n",
    "We are looking for an interval that covers both above and below 0, which is mean of normal distribution.\n",
    "So α/2 = 0.005\n",
    "1 - α/2 = 0.995\n",
    "\n",
    "Now look for this value in z table and add the respective colum and row value.\n",
    "Choose the closest value if there is no exact value."
   ]
  },
  {
   "cell_type": "markdown",
   "metadata": {},
   "source": [
    "Let's start with 90% confidence interval.\n",
    "α = 10% = 0.1\n",
    "α/2 = 0.05\n",
    "1 - α = 0.950\n",
    "From the cumilative table in wikipedia (https://en.wikipedia.org/wiki/Standard_normal_table), we find the value 0.950,\n",
    "there is no 0.950 so we choose the closest which is 0.95053, row value is 1.6 and column value is 0.05 so our z-stat (Reliability Factor) is 1.65 for 90% confidence interval."
   ]
  },
  {
   "cell_type": "code",
   "execution_count": 20,
   "metadata": {},
   "outputs": [],
   "source": [
    "z_90 = 1.65"
   ]
  },
  {
   "cell_type": "markdown",
   "metadata": {},
   "source": [
    "### Standard Error\n",
    "Standard error = standar deviation of population divided by square root of population count."
   ]
  },
  {
   "cell_type": "code",
   "execution_count": 21,
   "metadata": {},
   "outputs": [
    {
     "data": {
      "text/plain": [
       "30"
      ]
     },
     "execution_count": 21,
     "metadata": {},
     "output_type": "execute_result"
    }
   ],
   "source": [
    "sample_count = df['Dataset'].count()\n",
    "sample_count"
   ]
  },
  {
   "cell_type": "code",
   "execution_count": 22,
   "metadata": {},
   "outputs": [
    {
     "data": {
      "text/plain": [
       "2738.6127875258308"
      ]
     },
     "execution_count": 22,
     "metadata": {},
     "output_type": "execute_result"
    }
   ],
   "source": [
    "#Standar Deviation (std) of the population is given = $15000\n",
    "std = 15000\n",
    "standard_error = std/math.sqrt(sample_count)\n",
    "standard_error"
   ]
  },
  {
   "cell_type": "code",
   "execution_count": 23,
   "metadata": {},
   "outputs": [
    {
     "data": {
      "text/plain": [
       "(95681.65556724905, 104719.07776608429)"
      ]
     },
     "execution_count": 23,
     "metadata": {},
     "output_type": "execute_result"
    }
   ],
   "source": [
    "#lets define the interval which has our mean with 90% possibilitiy\n",
    "interval_90 =((sample_mean - z_90 * standard_error) ,(sample_mean + z_90 * standard_error))\n",
    "interval_90"
   ]
  },
  {
   "cell_type": "markdown",
   "metadata": {},
   "source": [
    "The result is our population mean is between 95681.66 and 104719.08 US Dollars\n",
    "This interval is called as confidence interval."
   ]
  },
  {
   "cell_type": "markdown",
   "metadata": {},
   "source": [
    "We can and should define a function for future use of these calculations."
   ]
  },
  {
   "cell_type": "code",
   "execution_count": 24,
   "metadata": {},
   "outputs": [],
   "source": [
    "def conf_interval(count, z, std, mean):\n",
    "    '''\n",
    "    count = sample dataset count\n",
    "    z = z value from the unit normal table\n",
    "    std = standard deviatoin of population\n",
    "    mean = mean of sample dataset\n",
    "    '''\n",
    "    return ((mean - z * (std/math.sqrt(count))),(mean + z * (std/math.sqrt(count))))"
   ]
  },
  {
   "cell_type": "code",
   "execution_count": null,
   "metadata": {},
   "outputs": [],
   "source": []
  }
 ],
 "metadata": {
  "kernelspec": {
   "display_name": "Python 3",
   "language": "python",
   "name": "python3"
  },
  "language_info": {
   "codemirror_mode": {
    "name": "ipython",
    "version": 3
   },
   "file_extension": ".py",
   "mimetype": "text/x-python",
   "name": "python",
   "nbconvert_exporter": "python",
   "pygments_lexer": "ipython3",
   "version": "3.7.4"
  }
 },
 "nbformat": 4,
 "nbformat_minor": 2
}
