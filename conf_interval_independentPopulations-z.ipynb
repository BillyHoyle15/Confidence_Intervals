{
 "cells": [
  {
   "cell_type": "markdown",
   "metadata": {},
   "source": [
    "## Finding Confidence Interval for 2 Inependent Samples with Known Population Variances"
   ]
  },
  {
   "cell_type": "markdown",
   "metadata": {},
   "source": [
    "In this example, we'll find the confidence interval for the two independent samples.\n",
    "The goal of this to understand realtions  \n",
    "For example: \n",
    "    Difference between grades of two different faculities.\n",
    "    \n",
    "For finding confidence intervals when population variance is known and z-statistic is being used as reliability factor (RF)\n",
    "\n",
    "We assume that population is normally distributed"
   ]
  },
  {
   "cell_type": "code",
   "execution_count": 1,
   "metadata": {},
   "outputs": [],
   "source": [
    "#inserting libraries\n",
    "import pandas as pd #pandas is great when dealing datasets\n",
    "import math #for mathematical functions"
   ]
  },
  {
   "cell_type": "code",
   "execution_count": 2,
   "metadata": {},
   "outputs": [
    {
     "data": {
      "text/html": [
       "<div>\n",
       "<style scoped>\n",
       "    .dataframe tbody tr th:only-of-type {\n",
       "        vertical-align: middle;\n",
       "    }\n",
       "\n",
       "    .dataframe tbody tr th {\n",
       "        vertical-align: top;\n",
       "    }\n",
       "\n",
       "    .dataframe thead th {\n",
       "        text-align: right;\n",
       "    }\n",
       "</style>\n",
       "<table border=\"1\" class=\"dataframe\">\n",
       "  <thead>\n",
       "    <tr style=\"text-align: right;\">\n",
       "      <th></th>\n",
       "      <th>Engineering</th>\n",
       "      <th>Management</th>\n",
       "      <th>Difference</th>\n",
       "    </tr>\n",
       "  </thead>\n",
       "  <tbody>\n",
       "    <tr>\n",
       "      <td>Size</td>\n",
       "      <td>100</td>\n",
       "      <td>70</td>\n",
       "      <td>?</td>\n",
       "    </tr>\n",
       "    <tr>\n",
       "      <td>Sample_Mean</td>\n",
       "      <td>58</td>\n",
       "      <td>65</td>\n",
       "      <td>-7</td>\n",
       "    </tr>\n",
       "    <tr>\n",
       "      <td>Population_Std</td>\n",
       "      <td>10</td>\n",
       "      <td>5</td>\n",
       "      <td>?</td>\n",
       "    </tr>\n",
       "  </tbody>\n",
       "</table>\n",
       "</div>"
      ],
      "text/plain": [
       "                Engineering  Management Difference\n",
       "Size                    100          70          ?\n",
       "Sample_Mean              58          65         -7\n",
       "Population_Std           10           5          ?"
      ]
     },
     "execution_count": 2,
     "metadata": {},
     "output_type": "execute_result"
    }
   ],
   "source": [
    "#creating our dataset\n",
    "#we have info for two departments (engineering and management)\n",
    "d = {'Engineering':[100,58,10],\n",
    "       'Management': [70,65,5],\n",
    "        'Difference': ['?', -7, '?']}\n",
    "df = pd.DataFrame(data=d, index=['Size','Sample_Mean', 'Population_Std'])\n",
    "df"
   ]
  },
  {
   "cell_type": "code",
   "execution_count": 3,
   "metadata": {
    "scrolled": true
   },
   "outputs": [
    {
     "name": "stdout",
     "output_type": "stream",
     "text": [
      "Variance of difference is: 1.3571428571428572\n",
      "Standard deviation of difference is: 1.164964745021435\n"
     ]
    }
   ],
   "source": [
    "#how can we compute difference of std in the table,\n",
    "#the formula for variance of difference is:\n",
    "#population_variance_engineering / engineering_count + population_variance_management/management_count\n",
    "eng_count = df.Engineering.Size\n",
    "eng_mean = df.Engineering.Sample_Mean\n",
    "eng_std = df.Engineering.Population_Std\n",
    "mng_count = df.Management.Size\n",
    "mng_mean = df.Management.Sample_Mean\n",
    "mng_std = df.Management.Population_Std\n",
    "\n",
    "#vaiance of difference\n",
    "var_diff = (eng_std**2/eng_count) + (mng_std**2/mng_count)\n",
    "std_diff = math.sqrt(var_diff)\n",
    "print('Variance of difference is:',var_diff)\n",
    "print('Standard deviation of difference is:',std_diff)"
   ]
  },
  {
   "cell_type": "markdown",
   "metadata": {},
   "source": [
    "### How to find z-stat\n",
    "First decide your confidence level. Let's say we look for 99% confidence level. Confidence level = 1 - α so, for 99% interval, our alpha is 1% whic is equal to 0.01 We are looking for an interval that covers both above and below 0, which is mean of normal distribution. So α/2 = 0.005 1 - α/2 = 0.995\n",
    "\n",
    "Now look for this value in z table and add the respective colum and row value. Choose the closest value if there is no exact value.\n",
    "\n",
    "From the cumilative table in wikipedia (https://en.wikipedia.org/wiki/Standard_normal_table), we find the z value 0.995, it is 2.58"
   ]
  },
  {
   "cell_type": "code",
   "execution_count": 4,
   "metadata": {},
   "outputs": [],
   "source": [
    "z_99 = 2.58"
   ]
  },
  {
   "cell_type": "code",
   "execution_count": 5,
   "metadata": {},
   "outputs": [
    {
     "data": {
      "text/plain": [
       "(-10.005609042155303, -3.9943909578446974)"
      ]
     },
     "execution_count": 5,
     "metadata": {},
     "output_type": "execute_result"
    }
   ],
   "source": [
    "#lets define the interval which has our mean with 99% possibilitiy\n",
    "interval_99 =((eng_mean-mng_mean - z_99 * std_diff) ,(eng_mean-mng_mean + z_99 * std_diff))\n",
    "interval_99"
   ]
  },
  {
   "cell_type": "markdown",
   "metadata": {},
   "source": [
    "We are 99% confident that the true mean difference between engineering and management grades falls into this interval.\n",
    "This can be caused because engineering is harder than management."
   ]
  },
  {
   "cell_type": "code",
   "execution_count": null,
   "metadata": {},
   "outputs": [],
   "source": []
  }
 ],
 "metadata": {
  "kernelspec": {
   "display_name": "Python 3",
   "language": "python",
   "name": "python3"
  },
  "language_info": {
   "codemirror_mode": {
    "name": "ipython",
    "version": 3
   },
   "file_extension": ".py",
   "mimetype": "text/x-python",
   "name": "python",
   "nbconvert_exporter": "python",
   "pygments_lexer": "ipython3",
   "version": "3.7.4"
  }
 },
 "nbformat": 4,
 "nbformat_minor": 2
}
