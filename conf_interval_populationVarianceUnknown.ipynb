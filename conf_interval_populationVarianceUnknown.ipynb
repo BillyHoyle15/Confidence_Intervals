{
 "cells": [
  {
   "cell_type": "markdown",
   "metadata": {},
   "source": [
    "# Finding Confidence Interval for Sample when Population Variance is Unknown"
   ]
  },
  {
   "cell_type": "markdown",
   "metadata": {},
   "source": [
    "In this example, we'll find the confidence interval for the mean of electrical engineer salary.\n",
    "Our population variance is unknown.\n",
    "We have 9 samples and we assume that data is normally distributed\n",
    "\n",
    "For finding confidence intervals when population variance is unknown, t-statistic is being used as reliability factor (RF)\n",
    "Without much detail, you can use http://www.ttable.org/ for finding t value\n",
    "\n",
    "The formula for the confidence interval is;\n",
    "[SampleMean - RF * StandardError , SampleMean + RF * StandardError]\n",
    "\n",
    "So the our population mean is in the interval above. I'll explain the standard error later in this notebook."
   ]
  },
  {
   "cell_type": "code",
   "execution_count": 10,
   "metadata": {},
   "outputs": [],
   "source": [
    "#inserting libraries\n",
    "import pandas as pd #pandas is great when dealing datasets\n",
    "import numpy as np #i'll just type the dataset manually for this example since it has only 9 samples.\n",
    "import math #for mathematical functions"
   ]
  },
  {
   "cell_type": "code",
   "execution_count": 11,
   "metadata": {},
   "outputs": [
    {
     "data": {
      "text/plain": [
       "array([ 78000,  90000,  75000, 117000, 105000,  96000,  89500, 102300,\n",
       "        80000])"
      ]
     },
     "execution_count": 11,
     "metadata": {},
     "output_type": "execute_result"
    }
   ],
   "source": [
    "#create our dataset\n",
    "df = np.array([78000, 90000, 75000, 117000, 105000, 96000, 89500,\n",
    "              102300, 80000])\n",
    "df"
   ]
  },
  {
   "cell_type": "code",
   "execution_count": 12,
   "metadata": {},
   "outputs": [
    {
     "data": {
      "text/plain": [
       "92533.33333333333"
      ]
     },
     "execution_count": 12,
     "metadata": {},
     "output_type": "execute_result"
    }
   ],
   "source": [
    "#we need sample mean\n",
    "sample_mean = df.mean()\n",
    "sample_mean"
   ]
  },
  {
   "cell_type": "markdown",
   "metadata": {},
   "source": [
    "### How to find t-stat\n",
    "First decide your confidence level. Let's say we look for 99% confidence level.\n",
    "Confidence level = 1 - α\n",
    "so, for 99% interval, our alpha is 1% whic is equal to 0.01\n",
    "We are looking for an two tailed t-value (short explanation, if you check an (hypothesis = some value) it is two tailed, if you chech hypothesis greater (>) or less (<) than some value, it is one tailed. since we look for a mean it is two tailed)\n",
    "\n",
    "Now look for this value in t table for 99% confidence (at the bottom) and add the two tailed 0.01 value for n-1 samples\n",
    "it is 3.355"
   ]
  },
  {
   "cell_type": "code",
   "execution_count": 13,
   "metadata": {},
   "outputs": [],
   "source": [
    "t_99 = 3.355"
   ]
  },
  {
   "cell_type": "markdown",
   "metadata": {},
   "source": [
    "### Standard Error\n",
    "Standard error = standar deviation of sample divided by square root of population count."
   ]
  },
  {
   "cell_type": "code",
   "execution_count": 14,
   "metadata": {},
   "outputs": [
    {
     "data": {
      "text/plain": [
       "9"
      ]
     },
     "execution_count": 14,
     "metadata": {},
     "output_type": "execute_result"
    }
   ],
   "source": [
    "sample_count = len(df)\n",
    "sample_count"
   ]
  },
  {
   "cell_type": "code",
   "execution_count": 15,
   "metadata": {},
   "outputs": [
    {
     "data": {
      "text/plain": [
       "13135.109862925057"
      ]
     },
     "execution_count": 15,
     "metadata": {},
     "output_type": "execute_result"
    }
   ],
   "source": [
    "#Standar Deviation (std) of the sample\n",
    "std = df.std()\n",
    "std"
   ]
  },
  {
   "cell_type": "code",
   "execution_count": 16,
   "metadata": {},
   "outputs": [
    {
     "data": {
      "text/plain": [
       "4643.962627852305"
      ]
     },
     "execution_count": 16,
     "metadata": {},
     "output_type": "execute_result"
    }
   ],
   "source": [
    "#Standar error\n",
    "standard_error = std/math.sqrt(sample_count-1)\n",
    "standard_error"
   ]
  },
  {
   "cell_type": "code",
   "execution_count": 17,
   "metadata": {},
   "outputs": [
    {
     "data": {
      "text/plain": [
       "(76952.83871688884, 108113.82794977781)"
      ]
     },
     "execution_count": 17,
     "metadata": {},
     "output_type": "execute_result"
    }
   ],
   "source": [
    "#lets define the interval which has our mean with 90% possibilitiy\n",
    "interval_99 =((sample_mean - t_99 * standard_error) ,(sample_mean + t_99 * standard_error))\n",
    "interval_99"
   ]
  },
  {
   "cell_type": "markdown",
   "metadata": {},
   "source": [
    "The result is our population mean is between 76952.84 and 108113.83 US Dollars\n",
    "This interval is called as confidence interval."
   ]
  },
  {
   "cell_type": "markdown",
   "metadata": {},
   "source": [
    "We can and should define a function for future use of these calculations."
   ]
  },
  {
   "cell_type": "code",
   "execution_count": 18,
   "metadata": {},
   "outputs": [],
   "source": [
    "def conf_interval(count, t, std, mean):\n",
    "    '''\n",
    "    count = sample dataset count\n",
    "    t = t value from the table\n",
    "    std = standard deviatoin of sample\n",
    "    mean = mean of sample dataset\n",
    "    '''\n",
    "    return ((mean - t * (std/math.sqrt(count-1))),(mean + t * (std/math.sqrt(count-1))))"
   ]
  },
  {
   "cell_type": "code",
   "execution_count": null,
   "metadata": {},
   "outputs": [],
   "source": []
  }
 ],
 "metadata": {
  "kernelspec": {
   "display_name": "Python 3",
   "language": "python",
   "name": "python3"
  },
  "language_info": {
   "codemirror_mode": {
    "name": "ipython",
    "version": 3
   },
   "file_extension": ".py",
   "mimetype": "text/x-python",
   "name": "python",
   "nbconvert_exporter": "python",
   "pygments_lexer": "ipython3",
   "version": "3.7.4"
  }
 },
 "nbformat": 4,
 "nbformat_minor": 2
}
