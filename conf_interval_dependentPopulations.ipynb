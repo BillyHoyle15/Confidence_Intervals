{
 "cells": [
  {
   "cell_type": "markdown",
   "metadata": {},
   "source": [
    "## Finding Confidence Interval for 2 Dependent Populations"
   ]
  },
  {
   "cell_type": "markdown",
   "metadata": {},
   "source": [
    "In this example, we'll find the confidence interval for the two dependent samples.\n",
    "The goal of this to understand before-after or cause-effect relations of the 2 samples.\n",
    "For example: \n",
    "    Effect of a pill that supposed to cahnge Iron level in the blood,\n",
    "    How succesfull is the diet etc.\n",
    "    \n",
    "For finding confidence intervals when population variance is unknown and when we have small amount of samples (less than 30), t-statistic is being used as reliability factor (RF)\n",
    "Without much detail, you can use http://www.ttable.org/ for finding t value\n",
    "\n",
    "The formula for the confidence interval is;\n",
    "[SampleMean - RF * StandardError , SampleMean + RF * StandardError]\n",
    "\n",
    "We assume that population is normally distributed"
   ]
  },
  {
   "cell_type": "code",
   "execution_count": 1,
   "metadata": {},
   "outputs": [],
   "source": [
    "#inserting libraries\n",
    "import pandas as pd #pandas is great when dealing datasets\n",
    "import math #for mathematical functions"
   ]
  },
  {
   "cell_type": "code",
   "execution_count": 2,
   "metadata": {},
   "outputs": [
    {
     "data": {
      "text/html": [
       "<div>\n",
       "<style scoped>\n",
       "    .dataframe tbody tr th:only-of-type {\n",
       "        vertical-align: middle;\n",
       "    }\n",
       "\n",
       "    .dataframe tbody tr th {\n",
       "        vertical-align: top;\n",
       "    }\n",
       "\n",
       "    .dataframe thead th {\n",
       "        text-align: right;\n",
       "    }\n",
       "</style>\n",
       "<table border=\"1\" class=\"dataframe\">\n",
       "  <thead>\n",
       "    <tr style=\"text-align: right;\">\n",
       "      <th></th>\n",
       "      <th>before</th>\n",
       "      <th>after</th>\n",
       "    </tr>\n",
       "  </thead>\n",
       "  <tbody>\n",
       "    <tr>\n",
       "      <td>0</td>\n",
       "      <td>103.68</td>\n",
       "      <td>92.87</td>\n",
       "    </tr>\n",
       "    <tr>\n",
       "      <td>1</td>\n",
       "      <td>110.68</td>\n",
       "      <td>101.58</td>\n",
       "    </tr>\n",
       "    <tr>\n",
       "      <td>2</td>\n",
       "      <td>119.05</td>\n",
       "      <td>105.66</td>\n",
       "    </tr>\n",
       "    <tr>\n",
       "      <td>3</td>\n",
       "      <td>101.75</td>\n",
       "      <td>96.18</td>\n",
       "    </tr>\n",
       "    <tr>\n",
       "      <td>4</td>\n",
       "      <td>91.69</td>\n",
       "      <td>86.97</td>\n",
       "    </tr>\n",
       "    <tr>\n",
       "      <td>5</td>\n",
       "      <td>112.03</td>\n",
       "      <td>105.90</td>\n",
       "    </tr>\n",
       "    <tr>\n",
       "      <td>6</td>\n",
       "      <td>88.84</td>\n",
       "      <td>80.56</td>\n",
       "    </tr>\n",
       "    <tr>\n",
       "      <td>7</td>\n",
       "      <td>105.18</td>\n",
       "      <td>97.00</td>\n",
       "    </tr>\n",
       "    <tr>\n",
       "      <td>8</td>\n",
       "      <td>110.37</td>\n",
       "      <td>99.27</td>\n",
       "    </tr>\n",
       "    <tr>\n",
       "      <td>9</td>\n",
       "      <td>120.99</td>\n",
       "      <td>107.44</td>\n",
       "    </tr>\n",
       "  </tbody>\n",
       "</table>\n",
       "</div>"
      ],
      "text/plain": [
       "   before   after\n",
       "0  103.68   92.87\n",
       "1  110.68  101.58\n",
       "2  119.05  105.66\n",
       "3  101.75   96.18\n",
       "4   91.69   86.97\n",
       "5  112.03  105.90\n",
       "6   88.84   80.56\n",
       "7  105.18   97.00\n",
       "8  110.37   99.27\n",
       "9  120.99  107.44"
      ]
     },
     "execution_count": 2,
     "metadata": {},
     "output_type": "execute_result"
    }
   ],
   "source": [
    "#creating our dataset\n",
    "#before and after body weights of 10 people for a new diet\n",
    "d = {'before':[103.68, 110.68, 119.05, 101.75, 91.69, 112.03, 88.84, 105.18, 110.37, 120.99],\n",
    "       'after': [92.87, 101.58, 105.66, 96.18, 86.97, 105.90, 80.56, 97.00, 99.27, 107.44]}\n",
    "df = pd.DataFrame(data=d)\n",
    "df"
   ]
  },
  {
   "cell_type": "code",
   "execution_count": 3,
   "metadata": {
    "scrolled": true
   },
   "outputs": [
    {
     "data": {
      "text/html": [
       "<div>\n",
       "<style scoped>\n",
       "    .dataframe tbody tr th:only-of-type {\n",
       "        vertical-align: middle;\n",
       "    }\n",
       "\n",
       "    .dataframe tbody tr th {\n",
       "        vertical-align: top;\n",
       "    }\n",
       "\n",
       "    .dataframe thead th {\n",
       "        text-align: right;\n",
       "    }\n",
       "</style>\n",
       "<table border=\"1\" class=\"dataframe\">\n",
       "  <thead>\n",
       "    <tr style=\"text-align: right;\">\n",
       "      <th></th>\n",
       "      <th>before</th>\n",
       "      <th>after</th>\n",
       "      <th>difference</th>\n",
       "    </tr>\n",
       "  </thead>\n",
       "  <tbody>\n",
       "    <tr>\n",
       "      <td>0</td>\n",
       "      <td>103.68</td>\n",
       "      <td>92.87</td>\n",
       "      <td>-10.81</td>\n",
       "    </tr>\n",
       "    <tr>\n",
       "      <td>1</td>\n",
       "      <td>110.68</td>\n",
       "      <td>101.58</td>\n",
       "      <td>-9.10</td>\n",
       "    </tr>\n",
       "    <tr>\n",
       "      <td>2</td>\n",
       "      <td>119.05</td>\n",
       "      <td>105.66</td>\n",
       "      <td>-13.39</td>\n",
       "    </tr>\n",
       "    <tr>\n",
       "      <td>3</td>\n",
       "      <td>101.75</td>\n",
       "      <td>96.18</td>\n",
       "      <td>-5.57</td>\n",
       "    </tr>\n",
       "    <tr>\n",
       "      <td>4</td>\n",
       "      <td>91.69</td>\n",
       "      <td>86.97</td>\n",
       "      <td>-4.72</td>\n",
       "    </tr>\n",
       "    <tr>\n",
       "      <td>5</td>\n",
       "      <td>112.03</td>\n",
       "      <td>105.90</td>\n",
       "      <td>-6.13</td>\n",
       "    </tr>\n",
       "    <tr>\n",
       "      <td>6</td>\n",
       "      <td>88.84</td>\n",
       "      <td>80.56</td>\n",
       "      <td>-8.28</td>\n",
       "    </tr>\n",
       "    <tr>\n",
       "      <td>7</td>\n",
       "      <td>105.18</td>\n",
       "      <td>97.00</td>\n",
       "      <td>-8.18</td>\n",
       "    </tr>\n",
       "    <tr>\n",
       "      <td>8</td>\n",
       "      <td>110.37</td>\n",
       "      <td>99.27</td>\n",
       "      <td>-11.10</td>\n",
       "    </tr>\n",
       "    <tr>\n",
       "      <td>9</td>\n",
       "      <td>120.99</td>\n",
       "      <td>107.44</td>\n",
       "      <td>-13.55</td>\n",
       "    </tr>\n",
       "  </tbody>\n",
       "</table>\n",
       "</div>"
      ],
      "text/plain": [
       "   before   after  difference\n",
       "0  103.68   92.87      -10.81\n",
       "1  110.68  101.58       -9.10\n",
       "2  119.05  105.66      -13.39\n",
       "3  101.75   96.18       -5.57\n",
       "4   91.69   86.97       -4.72\n",
       "5  112.03  105.90       -6.13\n",
       "6   88.84   80.56       -8.28\n",
       "7  105.18   97.00       -8.18\n",
       "8  110.37   99.27      -11.10\n",
       "9  120.99  107.44      -13.55"
      ]
     },
     "execution_count": 3,
     "metadata": {},
     "output_type": "execute_result"
    }
   ],
   "source": [
    "#create a difference column\n",
    "df['difference'] = df['after'] - df['before']\n",
    "df"
   ]
  },
  {
   "cell_type": "code",
   "execution_count": 4,
   "metadata": {},
   "outputs": [
    {
     "data": {
      "text/plain": [
       "-9.083000000000002"
      ]
     },
     "execution_count": 4,
     "metadata": {},
     "output_type": "execute_result"
    }
   ],
   "source": [
    "#we need sample mean, we need mean of the differences\n",
    "sample_mean = df['difference'].mean()\n",
    "sample_mean"
   ]
  },
  {
   "cell_type": "markdown",
   "metadata": {},
   "source": [
    "### How to find t-stat\n",
    "First decide your confidence level. Let's say we look for 95% confidence level.\n",
    "Confidence level = 1 - α\n",
    "so, for 95% interval, our alpha is 5% whic is equal to 0.05\n",
    "We are looking for an two tailed t-value (short explanation, if you check an (hypothesis = some value) it is two tailed, if you chech hypothesis greater (>) or less (<) than some value, it is one tailed. since we look for a mean it is two tailed)\n",
    "\n",
    "Now look for this value in t table for 95% confidence (at the bottom) and look for n-1 samples\n",
    "it is 2.262"
   ]
  },
  {
   "cell_type": "code",
   "execution_count": 5,
   "metadata": {},
   "outputs": [],
   "source": [
    "t_95 = 2.262"
   ]
  },
  {
   "cell_type": "markdown",
   "metadata": {},
   "source": [
    "### Standard Error\n",
    "Standard error = standar deviation of difference divided by square root of population count."
   ]
  },
  {
   "cell_type": "code",
   "execution_count": 6,
   "metadata": {},
   "outputs": [
    {
     "data": {
      "text/plain": [
       "10"
      ]
     },
     "execution_count": 6,
     "metadata": {},
     "output_type": "execute_result"
    }
   ],
   "source": [
    "sample_count = len(df)\n",
    "sample_count"
   ]
  },
  {
   "cell_type": "code",
   "execution_count": 7,
   "metadata": {},
   "outputs": [
    {
     "data": {
      "text/plain": [
       "3.111141448264788"
      ]
     },
     "execution_count": 7,
     "metadata": {},
     "output_type": "execute_result"
    }
   ],
   "source": [
    "#Standar Deviation (std) of the sample\n",
    "std = df['difference'].std()\n",
    "std"
   ]
  },
  {
   "cell_type": "code",
   "execution_count": 8,
   "metadata": {},
   "outputs": [
    {
     "data": {
      "text/plain": [
       "0.9838293099471636"
      ]
     },
     "execution_count": 8,
     "metadata": {},
     "output_type": "execute_result"
    }
   ],
   "source": [
    "#Standar error\n",
    "standard_error = std/math.sqrt(sample_count)\n",
    "standard_error"
   ]
  },
  {
   "cell_type": "code",
   "execution_count": 9,
   "metadata": {},
   "outputs": [
    {
     "data": {
      "text/plain": [
       "(-11.308421899100486, -6.857578100899518)"
      ]
     },
     "execution_count": 9,
     "metadata": {},
     "output_type": "execute_result"
    }
   ],
   "source": [
    "#lets define the interval which has our mean with 95% possibilitiy\n",
    "interval_95 =((sample_mean - t_95 * standard_error) ,(sample_mean + t_95 * standard_error))\n",
    "interval_95"
   ]
  },
  {
   "cell_type": "markdown",
   "metadata": {},
   "source": [
    "The result is our population mean is between -11.31 and -6.86 kilograms\n",
    "This interval is called as confidence interval and our mean is 95% is in between. So we can say our diet is working"
   ]
  },
  {
   "cell_type": "markdown",
   "metadata": {},
   "source": [
    "We can and should define a function for future use of these calculations."
   ]
  },
  {
   "cell_type": "code",
   "execution_count": 10,
   "metadata": {},
   "outputs": [],
   "source": [
    "def conf_interval(count, t, std, mean):\n",
    "    '''\n",
    "    count = sample dataset count\n",
    "    t = t value from the table\n",
    "    std = standard deviatoin of sample\n",
    "    mean = mean of sample dataset\n",
    "    '''\n",
    "    return ((mean - t * (std/math.sqrt(count))),(mean + t * (std/math.sqrt(count))))"
   ]
  },
  {
   "cell_type": "code",
   "execution_count": null,
   "metadata": {},
   "outputs": [],
   "source": []
  }
 ],
 "metadata": {
  "kernelspec": {
   "display_name": "Python 3",
   "language": "python",
   "name": "python3"
  },
  "language_info": {
   "codemirror_mode": {
    "name": "ipython",
    "version": 3
   },
   "file_extension": ".py",
   "mimetype": "text/x-python",
   "name": "python",
   "nbconvert_exporter": "python",
   "pygments_lexer": "ipython3",
   "version": "3.7.4"
  }
 },
 "nbformat": 4,
 "nbformat_minor": 2
}
